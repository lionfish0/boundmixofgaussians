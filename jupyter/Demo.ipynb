{
 "cells": [
  {
   "cell_type": "markdown",
   "metadata": {},
   "source": [
    "Assuming lengthscale same in all directions"
   ]
  },
  {
   "cell_type": "code",
   "execution_count": 37,
   "metadata": {},
   "outputs": [],
   "source": [
    "import numpy as np\n",
    "from scipy.stats import multivariate_normal as mvnorm\n"
   ]
  },
  {
   "cell_type": "code",
   "execution_count": 38,
   "metadata": {},
   "outputs": [],
   "source": [
    "d = 2\n",
    "n = 30\n",
    "X = np.random.rand(n,d)*10\n",
    "w = np.random.rand(n) #scale of each\n",
    "ls = 2\n",
    "C = np.eye(d)*(ls**2)\n"
   ]
  },
  {
   "cell_type": "code",
   "execution_count": 59,
   "metadata": {},
   "outputs": [],
   "source": [
    "gridspacing = 3#grid spacing we'll use"
   ]
  },
  {
   "cell_type": "code",
   "execution_count": 60,
   "metadata": {},
   "outputs": [
    {
     "data": {
      "text/plain": [
       "0.28022885233909128"
      ]
     },
     "execution_count": 60,
     "metadata": {},
     "output_type": "execute_result"
    }
   ],
   "source": [
    "mg = np.meshgrid(np.arange(0,10,gridspacing),np.arange(0,10,gridspacing))\n",
    "mg = np.array([mg[0].flatten(),mg[1].flatten()]).T\n",
    "tot = np.zeros(len(mg))\n",
    "\n",
    "for x in X:\n",
    "    norm = mvnorm(x,C)\n",
    "    tot += norm.pdf(mg)\n",
    "maxgridpoint = np.max(tot)\n",
    "maxgridpoint    "
   ]
  },
  {
   "cell_type": "markdown",
   "metadata": {},
   "source": [
    "If we have n data points with scales $w$. The worst case is for all the data points to lie on the same location (Except for negative ones). So an upper bound for the peak is \n",
    "\n",
    "$\\sum_{i=1}^n (w_i)^+N_{peak}(C)$\n",
    "\n",
    "where $N_{peak}(C)$ is the maximum of the Gaussian N with covariance $C$.\n",
    "\n",
    "We'll assume a fixed lengthscale of $l$, and so the covariance becomes a diagonal matrix of $l^2$s [IS THIS RIGHT?!]\n",
    "\n",
    "Therefore, if we test a point within distance $d$ from the peak we will have a result that is within $N(d|0,C)-N(0|0,C)$ of the peak."
   ]
  },
  {
   "cell_type": "code",
   "execution_count": 61,
   "metadata": {},
   "outputs": [],
   "source": [
    "p = gridspacing/2 \n",
    "tempdist = mvnorm(np.zeros(d),C)\n",
    "centre = np.zeros(d)\n",
    "perturbed = centre.copy()\n",
    "perturbed[0]+=p\n",
    "potential_shortfall = (tempdist.pdf(centre)-tempdist.pdf(perturbed))*np.sum(np.abs(w))\n"
   ]
  },
  {
   "cell_type": "code",
   "execution_count": 62,
   "metadata": {},
   "outputs": [
    {
     "data": {
      "text/plain": [
       "0.43151300414581351"
      ]
     },
     "execution_count": 62,
     "metadata": {},
     "output_type": "execute_result"
    }
   ],
   "source": [
    "maxgridpoint+potential_shortfall"
   ]
  },
  {
   "cell_type": "code",
   "execution_count": null,
   "metadata": {},
   "outputs": [],
   "source": [
    "#0.305093265122\n",
    "#0.30526252352863581\n",
    "#0.32364688524594132\n",
    "#0.43151300414581351"
   ]
  }
 ],
 "metadata": {
  "kernelspec": {
   "display_name": "Python 3",
   "language": "python",
   "name": "python3"
  },
  "language_info": {
   "codemirror_mode": {
    "name": "ipython",
    "version": 3
   },
   "file_extension": ".py",
   "mimetype": "text/x-python",
   "name": "python",
   "nbconvert_exporter": "python",
   "pygments_lexer": "ipython3",
   "version": "3.6.3"
  }
 },
 "nbformat": 4,
 "nbformat_minor": 2
}
