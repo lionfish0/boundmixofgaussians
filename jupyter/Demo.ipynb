{
 "cells": [
  {
   "cell_type": "markdown",
   "metadata": {},
   "source": [
    "### Finding a bound on a mixture of Gaussians\n",
    "\n",
    "If we have n Gaussians, each scaled by a weight $w_i$. We assume for now that each dimension has equal variance and there is no covariance (i.e. the covariance matrix, $C$, is a diagonal, on which all the values are $l^2$, where $l$ is the lengthscale.\n",
    "\n",
    "We approach this by considering checking a grid of locations within which we know a priori that the maximum must lie (or possibly we're only interested in maxima within the grid). If we consider a single location $x$ on the grid, near the global maximum $x_*$. How much larger than $f(x)$ can $f(x_*)$ be?\n",
    "\n",
    "We can find a simple bound for this, by considering the case in which all the data points (in which $w>0$) lie at the same location. So an upper bound for the peak is,\n",
    "\n",
    "$S = \\sum_{i=1}^n (w_i)$\n",
    "\n",
    "where we assume the maximum of the Gaussians are $w_i$.\n",
    "\n",
    "Therefore, if we test a point within distance $d$ from the peak (evalutating the Gaussian $G(d|0,C)$) we will have a result that is within \n",
    "\n",
    "$S \\left[1 - G(d|0,C)\\right]$ \n",
    "\n",
    "of the peak.\n",
    "\n",
    "So if we test a grid, in which each grid point is within $2d$ of another grid point, we can say that the maximum is no greater than the greatest grid point plus the above difference.\n",
    "\n",
    "For a $d$ dimensional grid, the largest distance between a square grid spaced $g$ apart is $g\\sqrt{d}$. For example a 3d grid, spaced 2 apart has a diagonal distance of 3.464. Thus the largest distance ($p$) we should consider is half that; 1.732."
   ]
  },
  {
   "cell_type": "markdown",
   "metadata": {},
   "source": [
    "### PCA\n",
    "\n",
    "We can find a bound for higher dimensions by reducing the dimensionality. Initially this only works if the weights are positive.\n",
    "\n",
    "The distance between points in the PCA low dimensional space are always less than or equal to the distances in the full domain. Thus it's fairly straightforward to apply PCA and then compute (over the now slightly larger domain) the bound.\n",
    "\n",
    "#### Handling Negative Weights\n",
    "\n",
    "Note however that as the negative values could be moved much closer to the global maximum, thus reducing it wrongly, we can't use this method with negative weights. Example situation:\n",
    "\n",
    "        2d domain                X <-- +1 training point\n",
    "                                 | \n",
    "                                 | \n",
    "                                 |\n",
    "                                 |\n",
    "         ------------------------------------------- <-- 1d manifold\n",
    "                                |\n",
    "                                O <-- -1 training point\n",
    "\n",
    "\n",
    "The maximum in the original domain is +1.\n",
    "\n",
    "The maximum in the 1d domain, due to the proximity of the -1 training point to the +1 training point is only, for example, 0.2. \n",
    "\n",
    "For large lengthscales there might be mileage in just scaling the negative values by the greatest reduction a point could experience...\n",
    "\n",
    "I'm not sure how to do this yet...ignoring negatives seems like a really bad idea though."
   ]
  },
  {
   "cell_type": "code",
   "execution_count": 1,
   "metadata": {},
   "outputs": [],
   "source": [
    "import numpy as np"
   ]
  },
  {
   "cell_type": "code",
   "execution_count": 2,
   "metadata": {},
   "outputs": [],
   "source": [
    "def zeromean_gaussian(X,ls):\n",
    "    \"\"\"Compute the unnormalised gaussian values at locations specified in X, for a Gaussian\n",
    "    centred at the origin with covariance a diagonal with values ls^2.\"\"\"\n",
    "    twotimesls2 = 2*ls**2\n",
    "    return np.exp(-np.sum((X**2),1)/twotimesls2)"
   ]
  },
  {
   "cell_type": "code",
   "execution_count": 34,
   "metadata": {},
   "outputs": [
    {
     "data": {
      "text/plain": [
       "[<matplotlib.lines.Line2D at 0x7f1960a83048>]"
      ]
     },
     "execution_count": 34,
     "metadata": {},
     "output_type": "execute_result"
    },
    {
     "data": {
      "image/png": "[encoded data removed]",
      "text/plain": [
       "<matplotlib.figure.Figure at 0x7f1960b74b70>"
      ]
     },
     "metadata": {},
     "output_type": "display_data"
    }
   ],
   "source": [
    "X = np.arange(-10,10,0.1)[:,None]\n",
    "plt.plot(X[:,0],zeromean_gaussian(X-2,3)+zeromean_gaussian(X+2,3))"
   ]
  },
  {
   "cell_type": "code",
   "execution_count": 37,
   "metadata": {},
   "outputs": [],
   "source": [
    "def findbound(X,W,ls,d,gridspacing,gridsize,ignorenegatives=False):\n",
    "    \"\"\"\n",
    "    The gaussians here aren't normalised. please take this into account when chosing w.\n",
    "    \"\"\"\n",
    "    mg = np.meshgrid(*([np.arange(0,gridsize,gridspacing)]*d))\n",
    "    mesh = []\n",
    "    for mgitem in mg:\n",
    "        mesh.append(mgitem.flatten())\n",
    "    mesh = np.array(mesh).T\n",
    "    tot = np.zeros(len(mesh))\n",
    "    \n",
    "    #disable the weights that are negative.\n",
    "    newW = W.copy()\n",
    "    if ignorenegatives:\n",
    "        newW[newW<0] = 0\n",
    "    for i,(x,w) in enumerate(zip(X,newW)):\n",
    "        tot += w*zeromean_gaussian(mesh-x,ls)\n",
    "    maxgridpoint = np.max(tot)\n",
    "    #compute possible additional height between grid points\n",
    "    p = np.sqrt(d)*gridspacing/2 \n",
    "    potential_shortfall = (1-zeromean_gaussian(np.array([[p]]),ls))*np.sum(np.abs(W))\n",
    "    return maxgridpoint+potential_shortfall"
   ]
  },
  {
   "cell_type": "code",
   "execution_count": 38,
   "metadata": {},
   "outputs": [
    {
     "data": {
      "text/plain": [
       "array([ 6.00903462])"
      ]
     },
     "execution_count": 38,
     "metadata": {},
     "output_type": "execute_result"
    }
   ],
   "source": [
    "d = 2\n",
    "n = 1000\n",
    "X = np.random.rand(n,d)*10\n",
    "W = np.random.randn(n) #scale of each\n",
    "findbound(X,W,ls=2,d=d,gridspacing=0.1,gridsize=10)"
   ]
  },
  {
   "cell_type": "code",
   "execution_count": 6,
   "metadata": {},
   "outputs": [],
   "source": [
    "gridsize = 10\n",
    "results = []\n",
    "for gridspacing in [0.05,0.1,0.2,0.4,0.8,1.6,3.2]:\n",
    "    b = findbound(X,W,ls=2,d=d,gridspacing=gridspacing,gridsize=gridsize)\n",
    "    results.append((gridspacing,b))"
   ]
  },
  {
   "cell_type": "code",
   "execution_count": 7,
   "metadata": {},
   "outputs": [
    {
     "data": {
      "text/plain": [
       "Text(0,0.5,'Upper Bound on maximum')"
      ]
     },
     "execution_count": 7,
     "metadata": {},
     "output_type": "execute_result"
    },
    {
     "data": {
      "image/png": "[encoded data removed]",
      "text/plain": [
       "<matplotlib.figure.Figure at 0x7f19671cbf98>"
      ]
     },
     "metadata": {},
     "output_type": "display_data"
    }
   ],
   "source": [
    "results = np.array(results)\n",
    "import matplotlib.pyplot as plt\n",
    "%matplotlib inline\n",
    "plt.plot(results[:,0],results[:,1],'x')\n",
    "plt.xlabel('Grid spacing')\n",
    "plt.ylabel('Upper Bound on maximum')"
   ]
  },
  {
   "cell_type": "code",
   "execution_count": 8,
   "metadata": {},
   "outputs": [],
   "source": [
    "#Based on https://stackoverflow.com/questions/13224362/principal-component-analysis-pca-in-python\n",
    "import numpy as np\n",
    "from scipy import linalg as la\n",
    "    \n",
    "def PCA(data, dims_rescaled_data=2):\n",
    "    \"\"\"\n",
    "    returns: data transformed in 2 dims/columns + regenerated original data\n",
    "    pass in: data as 2D NumPy array\n",
    "    \"\"\"\n",
    "    means = data.mean(axis=0)\n",
    "    data -= means\n",
    "    R = np.cov(data, rowvar=False)\n",
    "    # calculate eigenvectors & eigenvalues of the covariance matrix, \n",
    "    # use 'eigh' rather than 'eig' since R is symmetric, \n",
    "    # the performance gain is substantial\n",
    "    evals, evecs = la.eigh(R)\n",
    "    # sort eigenvalue in decreasing order\n",
    "    idx = np.argsort(evals)[::-1]\n",
    "    evecs = evecs[:,idx]\n",
    "    # sort eigenvectors according to same index\n",
    "    evals = evals[idx]\n",
    "    # select the first n eigenvectors (n is desired dimension\n",
    "    # of rescaled data array, or dims_rescaled_data)\n",
    "    evecs = evecs[:, :dims_rescaled_data]\n",
    "    # carry out the transformation on the data using eigenvectors\n",
    "    # and return the re-scaled data, eigenvalues, and eigenvectors\n",
    "    return (evecs.T @ data.T).T, evals, evecs, means\n"
   ]
  },
  {
   "cell_type": "code",
   "execution_count": 63,
   "metadata": {},
   "outputs": [],
   "source": [
    "#54 dimensions, 100 gaussians\n",
    "d = 54\n",
    "n = 100\n",
    "X = np.random.rand(n,d)*10\n",
    "W = np.random.randn(n) #scale of each\n",
    "#make it binary\n",
    "W[W<0] = -1\n",
    "W[W>=0] = +1"
   ]
  },
  {
   "cell_type": "code",
   "execution_count": 64,
   "metadata": {},
   "outputs": [
    {
     "name": "stdout",
     "output_type": "stream",
     "text": [
      "0.288675134595\n",
      "finding bound...\n"
     ]
    },
    {
     "data": {
      "text/plain": [
       "array([ 3.81228234])"
      ]
     },
     "execution_count": 64,
     "metadata": {},
     "output_type": "execute_result"
    }
   ],
   "source": [
    "lowd = 3\n",
    "distancebetweengridpoints = 0.5\n",
    "gridspacing = np.sqrt((distancebetweengridpoints**2)/lowd)\n",
    "print(gridspacing)\n",
    "lowdX,evals,evecs,means = PCA(X.copy(),lowd)\n",
    "movedlowdX=lowdX-np.min(lowdX)  #move to be from zero\n",
    "print(\"finding bound...\")\n",
    "b = findbound(movedlowdX,W,ls=2,d=lowd,gridspacing=gridspacing,gridsize=np.max(movedlowdX)+gridspacing,ignorenegatives=True)\n",
    "b"
   ]
  },
  {
   "cell_type": "code",
   "execution_count": 65,
   "metadata": {},
   "outputs": [],
   "source": [
    "#Demonstrates that the distance between the points in the lower dimensional space\n",
    "#are always closer together.\n",
    "from scipy.spatial.distance import pdist, squareform\n",
    "assert np.all(squareform(pdist(X, 'euclidean'))-squareform(pdist(lowdX, 'euclidean'))>=0)"
   ]
  }
 ],
 "metadata": {
  "kernelspec": {
   "display_name": "Python 3",
   "language": "python",
   "name": "python3"
  },
  "language_info": {
   "codemirror_mode": {
    "name": "ipython",
    "version": 3
   },
   "file_extension": ".py",
   "mimetype": "text/x-python",
   "name": "python",
   "nbconvert_exporter": "python",
   "pygments_lexer": "ipython3",
   "version": "3.6.3"
  }
 },
 "nbformat": 4,
 "nbformat_minor": 2
}
