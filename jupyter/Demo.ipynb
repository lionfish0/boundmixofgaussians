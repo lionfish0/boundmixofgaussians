{
 "cells": [
  {
   "cell_type": "markdown",
   "metadata": {},
   "source": [
    "Assuming lengthscale same in all directions"
   ]
  },
  {
   "cell_type": "code",
   "execution_count": 1,
   "metadata": {},
   "outputs": [],
   "source": [
    "import numpy as np\n",
    "from scipy.stats import multivariate_normal as mvnorm\n"
   ]
  },
  {
   "cell_type": "code",
   "execution_count": 2,
   "metadata": {},
   "outputs": [],
   "source": [
    "def findbound(X,w,ls,d,gridspacing,gridsize):\n",
    "    \"\"\"\n",
    "    The gaussians here are normalised, please take this into account when chosing w.\n",
    "    \"\"\"\n",
    "    mg = np.meshgrid(*([np.arange(0,gridsize,gridspacing)]*d))\n",
    "    mesh = []\n",
    "    for mgitem in mg:\n",
    "        mesh.append(mgitem.flatten())\n",
    "    mesh = np.array(mesh).T\n",
    "    tot = np.zeros(len(mesh))\n",
    "    C = np.eye(d)*(ls**2)\n",
    "    for x in X:\n",
    "        norm = mvnorm(x,C)\n",
    "        tot += norm.pdf(mesh)\n",
    "    maxgridpoint = np.max(tot)\n",
    "    #compute possible additional height between grid points\n",
    "    p = np.sqrt(d)*gridspacing/2 \n",
    "    \n",
    "    tempdist = mvnorm(np.zeros(d),C)\n",
    "    centre = np.zeros(d)\n",
    "    perturbed = centre.copy()\n",
    "    perturbed[0]+=p\n",
    "    potential_shortfall = (tempdist.pdf(centre)-tempdist.pdf(perturbed))*np.sum(np.abs(w))\n",
    "    return maxgridpoint+potential_shortfall"
   ]
  },
  {
   "cell_type": "code",
   "execution_count": 46,
   "metadata": {},
   "outputs": [],
   "source": [
    "d = 2\n",
    "n = 30\n",
    "X = np.random.rand(n,d)*10\n",
    "w = np.random.rand(n) #scale of each"
   ]
  },
  {
   "cell_type": "code",
   "execution_count": null,
   "metadata": {},
   "outputs": [],
   "source": [
    "#gridcount = 10\n",
    "gridsize = 10\n",
    "#gridspacing=gridsize/(gridcount**(1.0/d))\n",
    "results = []\n",
    "for gridspacing in [0.025,0.05,0.1,0.2,0.4,0.8,1.6,3.2]:\n",
    "    b = findbound(X,w,ls=2,d=d,gridspacing=gridspacing,gridsize=gridsize)\n",
    "    results.append((gridspacing,b))"
   ]
  },
  {
   "cell_type": "code",
   "execution_count": 57,
   "metadata": {},
   "outputs": [
    {
     "data": {
      "text/plain": [
       "Text(0,0.5,'Upper Bound on maximum')"
      ]
     },
     "execution_count": 57,
     "metadata": {},
     "output_type": "execute_result"
    },
    {
     "data": {
      "image/png": "[encoded data removed]",
      "text/plain": [
       "<matplotlib.figure.Figure at 0x7ff1c030a780>"
      ]
     },
     "metadata": {},
     "output_type": "display_data"
    }
   ],
   "source": [
    "results = np.array(results)\n",
    "import matplotlib.pyplot as plt\n",
    "%matplotlib inline\n",
    "plt.plot(results[:,0],results[:,1],'x')\n",
    "plt.xlabel('Grid spacing')\n",
    "plt.ylabel('Upper Bound on maximum')"
   ]
  },
  {
   "cell_type": "markdown",
   "metadata": {},
   "source": [
    "### Finding a bound on a mixture of Gaussians\n",
    "\n",
    "If we have n Gaussians, each scaled by a weight $w_i$. We assume for now that each dimension has equal variance and there is no covariance (i.e. the covariance matrix, $C$, is a diagonal, on which all the values are $l^2$, where $l$ is the lengthscale.\n",
    "\n",
    "We approach this by considering checking a grid of locations within which we know a priori that the maximum must lie (or possibly we're only interested in maxima within the grid). If we consider a single location $x$ on the grid, near the global maximum $x_*$. How much larger than $f(x)$ can $f(x_*)$ be?\n",
    "\n",
    "We can find a simple bound for this, by considering the case in which all the data points (in which $w>0$) lie at the same location. So an upper bound for the peak is,\n",
    "\n",
    "$S = \\sum_{i=1}^n (w_i)$\n",
    "\n",
    "where we assume the maximum of the Gaussians are $w_i$.\n",
    "\n",
    "Therefore, if we test a point within distance $d$ from the peak (evalutating the Gaussian $G(d|0,C)$) we will have a result that is within \n",
    "\n",
    "$S \\left[1 - G(d|0,C)\\right]$ \n",
    "\n",
    "of the peak.\n",
    "\n",
    "So if we test a grid, in which each grid point is within $2d$ of another grid point, we can say that the maximum is no greater than the greatest grid point plus the above difference.\n",
    "\n",
    "For a $d$ dimensional grid, the largest distance between a square grid spaced $g$ apart is $g\\sqrt{d}$. For example a 3d grid, spaced 2 apart has a diagonal distance of 3.464. Thus the largest distance ($p$) we should consider is half that; 1.732."
   ]
  }
 ],
 "metadata": {
  "kernelspec": {
   "display_name": "Python 3",
   "language": "python",
   "name": "python3"
  },
  "language_info": {
   "codemirror_mode": {
    "name": "ipython",
    "version": 3
   },
   "file_extension": ".py",
   "mimetype": "text/x-python",
   "name": "python",
   "nbconvert_exporter": "python",
   "pygments_lexer": "ipython3",
   "version": "3.6.3"
  }
 },
 "nbformat": 4,
 "nbformat_minor": 2
}
