{
 "cells": [
  {
   "cell_type": "markdown",
   "metadata": {},
   "source": [
    "### Finding a bound on a mixture of Gaussians\n",
    "\n",
    "If we have n Gaussians, each scaled by a weight $w_i$. We assume for now that each dimension has equal variance and there is no covariance (i.e. the covariance matrix, $C$, is a diagonal, on which all the values are $l^2$, where $l$ is the lengthscale.\n",
    "\n",
    "We approach this by considering checking a grid of locations within which we know a priori that the maximum must lie (or possibly we're only interested in maxima within the grid). If we consider a single location $x$ on the grid, near the global maximum $x_*$. How much larger than $f(x)$ can $f(x_*)$ be?\n",
    "\n",
    "We can find a simple bound for this, by considering the case in which all the data points (in which $w>0$) lie at the same location. So an upper bound for the peak is,\n",
    "\n",
    "$S = \\sum_{i=1}^n (w_i)$\n",
    "\n",
    "where we assume the maximum of the Gaussians are $w_i$.\n",
    "\n",
    "Therefore, if we test a point within distance $d$ from the peak (evalutating the Gaussian $G(d|0,C)$) we will have a result that is within \n",
    "\n",
    "$S \\left[1 - G(d|0,C)\\right]$ \n",
    "\n",
    "of the peak.\n",
    "\n",
    "So if we test a grid, in which each grid point is within $2d$ of another grid point, we can say that the maximum is no greater than the greatest grid point plus the above difference.\n",
    "\n",
    "For a $d$ dimensional grid, the largest distance between a square grid spaced $g$ apart is $g\\sqrt{d}$. For example a 3d grid, spaced 2 apart has a diagonal distance of 3.464. Thus the largest distance ($p$) we should consider is half that; 1.732."
   ]
  },
  {
   "cell_type": "markdown",
   "metadata": {},
   "source": [
    "### PCA\n",
    "\n",
    "We can find a bound for higher dimensions by reducing the dimensionality. Initially this only works if the weights are positive.\n",
    "\n",
    "The distance between points in the PCA low dimensional space are always less than or equal to the distances in the full domain. Thus it's fairly straightforward to apply PCA and then compute (over the now slightly larger domain) the bound.\n",
    "\n",
    "#### Handling Negative Weights\n",
    "\n",
    "Note however that as the negative values could be moved much closer to the global maximum, thus reducing it wrongly, we can't use this method with negative weights. Example situation:\n",
    "\n",
    "        2d domain                X <-- +1 training point\n",
    "                                 | \n",
    "                                 | \n",
    "                                 |\n",
    "                                 |\n",
    "         ------------------------------------------- <-- 1d manifold\n",
    "                                |\n",
    "                                O <-- -1 training point\n",
    "\n",
    "\n",
    "The maximum in the original domain is +1.\n",
    "\n",
    "The maximum in the 1d domain, due to the proximity of the -1 training point to the +1 training point is only, for example, 0.2. \n",
    "\n",
    "For large lengthscales there might be mileage in just scaling the negative values by the greatest reduction a point could experience...\n",
    "\n",
    "I'm not sure how to do this yet...ignoring negatives seems like a really bad idea though."
   ]
  },
  {
   "cell_type": "markdown",
   "metadata": {},
   "source": [
    "Install with:\n",
    "\n",
    "        git clone https://github.com/lionfish0/boundmixofgaussians.git\n",
    "        cd boundmixofgaussians\n",
    "        pip install -e ."
   ]
  },
  {
   "cell_type": "code",
   "execution_count": 1,
   "metadata": {},
   "outputs": [],
   "source": [
    "import numpy as np\n",
    "import matplotlib.pyplot as plt\n",
    "%matplotlib inline\n",
    "from boundmixofgaussians import zeromean_gaussian, findbound, PCA"
   ]
  },
  {
   "cell_type": "code",
   "execution_count": 2,
   "metadata": {},
   "outputs": [
    {
     "data": {
      "text/plain": [
       "[<matplotlib.lines.Line2D at 0x7f7bf5b3b3c8>]"
      ]
     },
     "execution_count": 2,
     "metadata": {},
     "output_type": "execute_result"
    },
    {
     "data": {
      "image/png": "[encoded data removed]",
      "text/plain": [
       "<matplotlib.figure.Figure at 0x7f7bf82ea470>"
      ]
     },
     "metadata": {},
     "output_type": "display_data"
    }
   ],
   "source": [
    "X = np.arange(-10,10,0.1)[:,None]\n",
    "plt.plot(X[:,0],zeromean_gaussian(X-2,3)+zeromean_gaussian(X+2,3))"
   ]
  },
  {
   "cell_type": "code",
   "execution_count": 3,
   "metadata": {},
   "outputs": [
    {
     "data": {
      "text/plain": [
       "array([ 16.06358453])"
      ]
     },
     "execution_count": 3,
     "metadata": {},
     "output_type": "execute_result"
    }
   ],
   "source": [
    "d = 2\n",
    "n = 1000\n",
    "X = np.random.rand(n,d)*10\n",
    "W = np.random.randn(n) #scale of each\n",
    "findbound(X,W,ls=2,d=d,gridspacing=0.1,gridsize=10)"
   ]
  },
  {
   "cell_type": "code",
   "execution_count": 4,
   "metadata": {},
   "outputs": [],
   "source": [
    "gridsize = 10\n",
    "results = []\n",
    "for gridspacing in [0.05,0.1,0.2,0.4,0.8,1.6,3.2]:\n",
    "    b = findbound(X,W,ls=2,d=d,gridspacing=gridspacing,gridsize=gridsize)\n",
    "    results.append((gridspacing,b))"
   ]
  },
  {
   "cell_type": "code",
   "execution_count": 5,
   "metadata": {},
   "outputs": [
    {
     "data": {
      "text/plain": [
       "Text(0,0.5,'Upper Bound on maximum')"
      ]
     },
     "execution_count": 5,
     "metadata": {},
     "output_type": "execute_result"
    },
    {
     "data": {
      "image/png": "[encoded data removed]",
      "text/plain": [
       "<matplotlib.figure.Figure at 0x7f7bf7b6aba8>"
      ]
     },
     "metadata": {},
     "output_type": "display_data"
    }
   ],
   "source": [
    "results = np.array(results)\n",
    "import matplotlib.pyplot as plt\n",
    "%matplotlib inline\n",
    "plt.plot(results[:,0],results[:,1],'x')\n",
    "plt.xlabel('Grid spacing')\n",
    "plt.ylabel('Upper Bound on maximum')"
   ]
  },
  {
   "cell_type": "code",
   "execution_count": 6,
   "metadata": {},
   "outputs": [],
   "source": [
    "#54 dimensions, 100 gaussians\n",
    "d = 54\n",
    "n = 100\n",
    "X = np.random.rand(n,d)*10\n",
    "W = np.random.randn(n) #scale of each\n",
    "#make it binary\n",
    "W[W<0] = -1\n",
    "W[W>=0] = +1"
   ]
  },
  {
   "cell_type": "code",
   "execution_count": 7,
   "metadata": {},
   "outputs": [
    {
     "name": "stdout",
     "output_type": "stream",
     "text": [
      "0.288675134595\n",
      "finding bound...\n"
     ]
    },
    {
     "data": {
      "text/plain": [
       "array([ 5.61693615])"
      ]
     },
     "execution_count": 7,
     "metadata": {},
     "output_type": "execute_result"
    }
   ],
   "source": [
    "lowd = 3\n",
    "distancebetweengridpoints = 0.5\n",
    "gridspacing = np.sqrt((distancebetweengridpoints**2)/lowd)\n",
    "print(gridspacing)\n",
    "lowdX,evals,evecs,means = PCA(X.copy(),lowd)\n",
    "movedlowdX=lowdX-np.min(lowdX)  #move to be from zero\n",
    "print(\"finding bound...\")\n",
    "b = findbound(movedlowdX,W,ls=2,d=lowd,gridspacing=gridspacing,gridsize=np.max(movedlowdX)+gridspacing,ignorenegatives=True)\n",
    "b"
   ]
  },
  {
   "cell_type": "code",
   "execution_count": 8,
   "metadata": {},
   "outputs": [],
   "source": [
    "#Demonstrates that the distance between the points in the lower dimensional space\n",
    "#are always closer together.\n",
    "from scipy.spatial.distance import pdist, squareform\n",
    "assert np.all(squareform(pdist(X, 'euclidean'))-squareform(pdist(lowdX, 'euclidean'))>=0)"
   ]
  }
 ],
 "metadata": {
  "kernelspec": {
   "display_name": "Python 3",
   "language": "python",
   "name": "python3"
  },
  "language_info": {
   "codemirror_mode": {
    "name": "ipython",
    "version": 3
   },
   "file_extension": ".py",
   "mimetype": "text/x-python",
   "name": "python",
   "nbconvert_exporter": "python",
   "pygments_lexer": "ipython3",
   "version": "3.6.3"
  }
 },
 "nbformat": 4,
 "nbformat_minor": 2
}
